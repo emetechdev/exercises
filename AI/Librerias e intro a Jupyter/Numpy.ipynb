{
  "nbformat": 4,
  "nbformat_minor": 0,
  "metadata": {
    "colab": {
      "provenance": []
    },
    "kernelspec": {
      "name": "python3",
      "display_name": "Python 3"
    },
    "language_info": {
      "name": "python"
    }
  },
  "cells": [
    {
      "cell_type": "markdown",
      "source": [
        "# Numpy\n",
        "\n",
        "Librería para la computación científica y de dominio técnico como: operaciónes matemáticas, estadísticas, etc., y de forma eficiente. Para ello proporciona nuevos tipos de datos que no están en python (`en paython estan las listas, las tuplas o los diccionarios, pero no los \"Arrays\"`) como los **\"Array\"** que están implementados basándose en los tipos fundamentales de python.\n",
        "\n",
        "Proporciona:\n",
        "- Arrays de N-dimensiones\n",
        "- Implementa funciones matemáticas complejas\n",
        "- Herramientas para integrar C/C++ y Fortran\n",
        "- Mecanismos para facilitar la realización de tareas relacionadas con álgebra lineal o números aleatorios"
      ],
      "metadata": {
        "id": "WY82SDyr6GzN"
      }
    },
    {
      "cell_type": "code",
      "execution_count": 2,
      "metadata": {
        "id": "vcaw1mPkzSmY"
      },
      "outputs": [],
      "source": [
        "import numpy as np # Se importa la librería y se la renombra \"np\""
      ]
    },
    {
      "cell_type": "markdown",
      "source": [
        "## Array\n",
        "Es una estructura de datos que consiste en una colección de elementos (valores o variables), cada uno identificado por al menos un índice o clave. Un **array** se almacena de modo que la posición de cada elemento se pueda calcular a partir de su tupla de índice mediante una fórmula matemática. El tipo más simple de array es un array lineal, también llamado **unidimensional**\n",
        "En numpy:\n",
        "- Cada dimensión se denomina **axis** (eje)\n",
        "- El número de dimensiones se denomina **rank**\n",
        "- La lista de dimensiones con su correspondiente longitud se denomina **shape**\n",
        "- El número total de elementos se denomina **size** (es la multiplicación de la longitud de las dimensiones).\n",
        "\n",
        "Los **Array** nos facilitan muchisimo el acceso a diferentes características del miso, o a sus propios elementos (éste tipo de acceso no lo poseen las listas)."
      ],
      "metadata": {
        "id": "R7Wp95QM8kOf"
      }
    },
    {
      "cell_type": "code",
      "source": [
        "# Array cuyos valores son todos 0\n",
        "a = np.zeros((2,4)) # Tiene 2 filas y 4 columnas"
      ],
      "metadata": {
        "id": "ApUcVirf9wjI"
      },
      "execution_count": 3,
      "outputs": []
    },
    {
      "cell_type": "code",
      "source": [
        "a # Imprime el \"array\""
      ],
      "metadata": {
        "colab": {
          "base_uri": "https://localhost:8080/"
        },
        "id": "7qsp5zrt-qcS",
        "outputId": "f5ba4915-5039-47f4-9b85-ba99b369f7a3"
      },
      "execution_count": 4,
      "outputs": [
        {
          "output_type": "execute_result",
          "data": {
            "text/plain": [
              "array([[0., 0., 0., 0.],\n",
              "       [0., 0., 0., 0.]])"
            ]
          },
          "metadata": {},
          "execution_count": 4
        }
      ]
    },
    {
      "cell_type": "markdown",
      "source": [
        "- En el ejemplo son **2 dimensiones**, una Vertical (de longitud 2) y otra Horizontal (de longitud 4).\n",
        "- El **rank** es 2: Es decir que son 2 dimensiones (Vertical y Horizontal)\n",
        "- El **shape** es (2,4)\n",
        "- El **size** es 8: Es la cantidad de elementos"
      ],
      "metadata": {
        "id": "c4tKiDFC_BeK"
      }
    },
    {
      "cell_type": "code",
      "source": [
        "a.shape # Devuelve el \"shape\"\n"
      ],
      "metadata": {
        "colab": {
          "base_uri": "https://localhost:8080/"
        },
        "id": "NyurZhsVAS4v",
        "outputId": "6f09d5e3-07b7-4f84-a30a-b5c036c61ae6"
      },
      "execution_count": 5,
      "outputs": [
        {
          "output_type": "execute_result",
          "data": {
            "text/plain": [
              "(2, 4)"
            ]
          },
          "metadata": {},
          "execution_count": 5
        }
      ]
    },
    {
      "cell_type": "code",
      "source": [
        "a.ndim # Devuelve las dimensiones, o \"rank\""
      ],
      "metadata": {
        "colab": {
          "base_uri": "https://localhost:8080/"
        },
        "id": "nDdofTCIAW7K",
        "outputId": "7ddcf917-de8e-4dad-b850-4517f2b02155"
      },
      "execution_count": 6,
      "outputs": [
        {
          "output_type": "execute_result",
          "data": {
            "text/plain": [
              "2"
            ]
          },
          "metadata": {},
          "execution_count": 6
        }
      ]
    },
    {
      "cell_type": "code",
      "source": [
        "a.size # Devuelve el tamaño, es decir la cantidad de elementos que tiene el array"
      ],
      "metadata": {
        "colab": {
          "base_uri": "https://localhost:8080/"
        },
        "id": "rA1uPsg7AoNu",
        "outputId": "7d50df87-beaf-46c2-bac0-16ef7367df32"
      },
      "execution_count": 7,
      "outputs": [
        {
          "output_type": "execute_result",
          "data": {
            "text/plain": [
              "8"
            ]
          },
          "metadata": {},
          "execution_count": 7
        }
      ]
    },
    {
      "cell_type": "markdown",
      "source": [
        "## Otras cosas que se pueden hacer con \"arrays\""
      ],
      "metadata": {
        "id": "8uNKL4QYA-vA"
      }
    },
    {
      "cell_type": "code",
      "source": [
        "# Array cuyos valores son todos 0. Ejemplo con un \"shape\" de 3 dimensiones\n",
        "np.zeros((2,3,4))"
      ],
      "metadata": {
        "colab": {
          "base_uri": "https://localhost:8080/"
        },
        "id": "AoUDv9reAzI9",
        "outputId": "669cdb53-1072-45f2-97cb-6bea72b60e94"
      },
      "execution_count": 11,
      "outputs": [
        {
          "output_type": "execute_result",
          "data": {
            "text/plain": [
              "array([[[0., 0., 0., 0.],\n",
              "        [0., 0., 0., 0.],\n",
              "        [0., 0., 0., 0.]],\n",
              "\n",
              "       [[0., 0., 0., 0.],\n",
              "        [0., 0., 0., 0.],\n",
              "        [0., 0., 0., 0.]]])"
            ]
          },
          "metadata": {},
          "execution_count": 11
        }
      ]
    },
    {
      "cell_type": "code",
      "source": [
        "# Array cuyos valores son todos 1\n",
        "np.ones((2,3,4))"
      ],
      "metadata": {
        "colab": {
          "base_uri": "https://localhost:8080/"
        },
        "id": "_cMrn-YtBCtA",
        "outputId": "43685550-50a2-46a4-fa71-6b826e5867a3"
      },
      "execution_count": 12,
      "outputs": [
        {
          "output_type": "execute_result",
          "data": {
            "text/plain": [
              "array([[[1., 1., 1., 1.],\n",
              "        [1., 1., 1., 1.],\n",
              "        [1., 1., 1., 1.]],\n",
              "\n",
              "       [[1., 1., 1., 1.],\n",
              "        [1., 1., 1., 1.],\n",
              "        [1., 1., 1., 1.]]])"
            ]
          },
          "metadata": {},
          "execution_count": 12
        }
      ]
    },
    {
      "cell_type": "code",
      "source": [
        "# Array cuyos valores son todos el valor indicado como segundo parámetro de la funcion\n",
        "np.full((2, 3, 4), 8) # Se introduce un \"shape\" de 3 dimensiones por ejemplo y como segundo parametro va el nro que se quiere repetir"
      ],
      "metadata": {
        "colab": {
          "base_uri": "https://localhost:8080/"
        },
        "id": "qeT7RMDdBPsd",
        "outputId": "ee9c888f-e26c-4cc8-a4d7-4492362d72c7"
      },
      "execution_count": 13,
      "outputs": [
        {
          "output_type": "execute_result",
          "data": {
            "text/plain": [
              "array([[[8, 8, 8, 8],\n",
              "        [8, 8, 8, 8],\n",
              "        [8, 8, 8, 8]],\n",
              "\n",
              "       [[8, 8, 8, 8],\n",
              "        [8, 8, 8, 8],\n",
              "        [8, 8, 8, 8]]])"
            ]
          },
          "metadata": {},
          "execution_count": 13
        }
      ]
    },
    {
      "cell_type": "markdown",
      "source": [
        "El array de 8 se ve:\n",
        "```python\n",
        "[\n",
        "    [\n",
        "        [ 8, 8, 8, 8 ],\n",
        "        [ 8, 8, 8, 8 ],\n",
        "        [ 8, 8, 8, 8 ]\n",
        "    ],\n",
        "    [\n",
        "        [ 8, 8, 8, 8 ],\n",
        "        [ 8, 8, 8, 8 ],\n",
        "        [ 8, 8, 8, 8 ]\n",
        "    ]\n",
        "]\n",
        "```"
      ],
      "metadata": {
        "id": "iWemXFRiKix8"
      }
    },
    {
      "cell_type": "code",
      "source": [
        "# El resultado de np.empty no es predecible\n",
        "# Inicializa los valores del array con lo que haya en memoria en ese momento. Aca los valores que muestra son valores que están en esa posición de momoria\n",
        "# Y pueden se ceros o numeros aleatorios\n",
        "np.empty( (2, 3, 9) )"
      ],
      "metadata": {
        "colab": {
          "base_uri": "https://localhost:8080/"
        },
        "id": "qndu4W-eBWIZ",
        "outputId": "3bf5fc3c-afb4-4719-96dc-7e6765c40b22"
      },
      "execution_count": 14,
      "outputs": [
        {
          "output_type": "execute_result",
          "data": {
            "text/plain": [
              "array([[[6.55179823e-310, 0.00000000e+000, 6.55230325e-310,\n",
              "         6.55230325e-310, 6.55230325e-310, 6.55230325e-310,\n",
              "         6.55230325e-310, 6.55230325e-310, 6.55230325e-310],\n",
              "        [6.55230325e-310, 6.55230325e-310, 6.55230325e-310,\n",
              "         6.55230325e-310, 6.55230325e-310, 6.55230325e-310,\n",
              "         6.55230325e-310, 6.55230325e-310, 6.55230325e-310],\n",
              "        [6.55230325e-310, 6.55230325e-310, 6.55230325e-310,\n",
              "         6.55230325e-310, 6.55230325e-310, 6.55230325e-310,\n",
              "         6.55230325e-310, 6.55230325e-310, 6.55230325e-310]],\n",
              "\n",
              "       [[6.55230325e-310, 6.55230325e-310, 6.55230325e-310,\n",
              "         6.55230325e-310, 6.55230325e-310, 6.55230325e-310,\n",
              "         6.55230325e-310, 6.55230325e-310, 6.55230325e-310],\n",
              "        [6.55230325e-310, 6.55230325e-310, 6.55230325e-310,\n",
              "         6.55230325e-310, 6.55230325e-310, 6.55230325e-310,\n",
              "         6.55230325e-310, 6.55230325e-310, 6.55230325e-310],\n",
              "        [6.55230325e-310, 6.55230325e-310, 6.55230325e-310,\n",
              "         6.55230325e-310, 6.55230325e-310, 6.55232725e-310,\n",
              "         1.63041663e-322, 4.78157844e-310, 6.55234872e-310]]])"
            ]
          },
          "metadata": {},
          "execution_count": 14
        }
      ]
    },
    {
      "cell_type": "code",
      "source": [
        "# Inicialización del array utilizando una lista de Python. Esto se puede ya que hay una compatibilidad entre los tipos de python y los que proveen los \"array\"\n",
        "b = np.array( [1, 2, 3] ) # Se introduce una sola lista, es decir que es un \"array unidimensional\""
      ],
      "metadata": {
        "id": "NIj_eHQ0GOnG"
      },
      "execution_count": 15,
      "outputs": []
    },
    {
      "cell_type": "code",
      "source": [
        "b.shape # Devuelve que es una sola dimension (3,)"
      ],
      "metadata": {
        "colab": {
          "base_uri": "https://localhost:8080/"
        },
        "id": "o0OCvGwGLlBR",
        "outputId": "819ad719-92ea-4a5a-c06a-6ecd661e00aa"
      },
      "execution_count": 16,
      "outputs": [
        {
          "output_type": "execute_result",
          "data": {
            "text/plain": [
              "(3,)"
            ]
          },
          "metadata": {},
          "execution_count": 16
        }
      ]
    },
    {
      "cell_type": "code",
      "source": [
        "b.ndim # Devuleve 1"
      ],
      "metadata": {
        "colab": {
          "base_uri": "https://localhost:8080/"
        },
        "id": "OKbOapt0LsDu",
        "outputId": "c2375f91-d57d-4966-cb6a-2ee1c35f9c93"
      },
      "execution_count": 17,
      "outputs": [
        {
          "output_type": "execute_result",
          "data": {
            "text/plain": [
              "1"
            ]
          },
          "metadata": {},
          "execution_count": 17
        }
      ]
    },
    {
      "cell_type": "code",
      "source": [
        "# Creación del array utilizando una función basada en rangos (mínimo, máximo, número de elementos del array)\n",
        "# Aca se espera crear un array cuyos valores sigan una progresión usando\n",
        "# np.linspace( valor_inicio, valor_maximo, cantidad_de_elementos )\n",
        "# cantidad_de_elementos: Es la cantidad de elementos que va a tener en total\n",
        "np.linspace( 0, 6, 10) # Divide los valores de manera tal que sea proporcional"
      ],
      "metadata": {
        "colab": {
          "base_uri": "https://localhost:8080/"
        },
        "id": "kcMpaf85L1x5",
        "outputId": "ca3df835-dc9b-422e-8b92-c1801022c8d9"
      },
      "execution_count": 21,
      "outputs": [
        {
          "output_type": "stream",
          "name": "stdout",
          "text": [
            "[0.         0.66666667 1.33333333 2.         2.66666667 3.33333333\n",
            " 4.         4.66666667 5.33333333 6.        ]\n"
          ]
        }
      ]
    },
    {
      "cell_type": "code",
      "source": [
        "# Inicialización del array con valores aleatorios. Solo se le agregan las dimensiones\n",
        "np.random.rand(2, 3, 4) # 3 dimensiones"
      ],
      "metadata": {
        "colab": {
          "base_uri": "https://localhost:8080/"
        },
        "id": "c0CMHzcUMAnh",
        "outputId": "3aaf8430-555a-4af4-ac59-29b552c98916"
      },
      "execution_count": 22,
      "outputs": [
        {
          "output_type": "execute_result",
          "data": {
            "text/plain": [
              "array([[[0.63311435, 0.74206562, 0.00275866, 0.19017507],\n",
              "        [0.54527199, 0.25387385, 0.46781494, 0.77506053],\n",
              "        [0.26863083, 0.82229804, 0.11849389, 0.69397177]],\n",
              "\n",
              "       [[0.67623381, 0.70269138, 0.91621766, 0.76553114],\n",
              "        [0.26186921, 0.19828066, 0.00362853, 0.00659613],\n",
              "        [0.11186415, 0.47751545, 0.85868943, 0.88929034]]])"
            ]
          },
          "metadata": {},
          "execution_count": 22
        }
      ]
    },
    {
      "cell_type": "code",
      "source": [
        "# Inicialización del array con valores aleatorios conforme a una \"distribución normal\" (la representación gráfica es la \"curva normal\")\n",
        "np.random.randn(2, 4) # Dos dimensiones"
      ],
      "metadata": {
        "colab": {
          "base_uri": "https://localhost:8080/"
        },
        "id": "LAI8VGW0MEek",
        "outputId": "d1e915ef-9e0c-4475-ae96-57a9454a4a6b"
      },
      "execution_count": 23,
      "outputs": [
        {
          "output_type": "execute_result",
          "data": {
            "text/plain": [
              "array([[-0.23386698, -0.2802453 ,  1.46309513, -1.10367256],\n",
              "       [ 0.47844628, -2.05768557,  0.50557942, -0.28935394]])"
            ]
          },
          "metadata": {},
          "execution_count": 23
        }
      ]
    },
    {
      "cell_type": "code",
      "source": [
        "# Para incrustar un grafico con \"matplot\" y ver el ejemplo de la \"distribución normal\" o \"Campana de gauss\"\n",
        "%matplotlib inline\n",
        "import matplotlib.pyplot as plt\n",
        "\n",
        "c= np.random.randn(1000000)\n",
        "plt.hist(c, bins=200)\n",
        "plt.show()"
      ],
      "metadata": {
        "colab": {
          "base_uri": "https://localhost:8080/",
          "height": 430
        },
        "id": "lW1E99eQMJCu",
        "outputId": "be377bd9-1688-4f39-aa24-2fc9b005bdde"
      },
      "execution_count": 25,
      "outputs": [
        {
          "output_type": "display_data",
          "data": {
            "text/plain": [
              "<Figure size 640x480 with 1 Axes>"
            ],
            "image/png": "[encoded data removed]"
          },
          "metadata": {}
        }
      ]
    },
    {
      "cell_type": "markdown",
      "source": [
        "## Acceso a los elementos\n",
        "### Array unidimensional"
      ],
      "metadata": {
        "id": "U33TxvuPOg-6"
      }
    },
    {
      "cell_type": "code",
      "source": [
        "# Creación de un Array unidimensional\n",
        "array_uni = np.array( [1, 3, 5, 7, 9, 11] )\n",
        "print(\"shape: \", array_uni.shape) # Imprime una tupla con un solo elemento (6,)\n",
        "print(array_uni)"
      ],
      "metadata": {
        "colab": {
          "base_uri": "https://localhost:8080/"
        },
        "id": "wvvkBK8yOOXX",
        "outputId": "3efa24a0-7dd8-47a1-d565-dae12085e57f"
      },
      "execution_count": 29,
      "outputs": [
        {
          "output_type": "stream",
          "name": "stdout",
          "text": [
            "shape:  (6,)\n",
            "[ 1  3  5  7  9 11]\n"
          ]
        }
      ]
    },
    {
      "cell_type": "code",
      "source": [
        "# Accediendo al quinto elemento del Array\n",
        "array_uni[4] # Rpta: 9"
      ],
      "metadata": {
        "colab": {
          "base_uri": "https://localhost:8080/"
        },
        "id": "_PQ2ubwuOpHo",
        "outputId": "bd59a4d7-2f1a-4f87-98d7-6d343d487ca3"
      },
      "execution_count": 30,
      "outputs": [
        {
          "output_type": "execute_result",
          "data": {
            "text/plain": [
              "9"
            ]
          },
          "metadata": {},
          "execution_count": 30
        }
      ]
    },
    {
      "cell_type": "code",
      "source": [
        "# Accediendo alal tercer y cuarto elemento del Array. Tambien se pueden usar los conceptos de \"sliceiyng\" y \"strike\" (dando saltos)\n",
        "# Va del elemento en posición (que es el tercero), hasta el cuarto. Es decir que muestra la posición 3 y no incluye la 4\n",
        "array_uni[ 2:4 ] # Rpta: [5, 7]"
      ],
      "metadata": {
        "colab": {
          "base_uri": "https://localhost:8080/"
        },
        "id": "JvfuGoDBOtbV",
        "outputId": "d7843eab-68ee-4129-c009-640c3d409b70"
      },
      "execution_count": 31,
      "outputs": [
        {
          "output_type": "execute_result",
          "data": {
            "text/plain": [
              "array([5, 7])"
            ]
          },
          "metadata": {},
          "execution_count": 31
        }
      ]
    },
    {
      "cell_type": "code",
      "source": [
        "# Accediendo a los elementos 0, 3 y 5 del Array. El 0 es porque accede desde el primer elemento\n",
        "# [0: : 3] # El espacio vacío entre los dos puntos es para indicar que vaya hasta el final.\n",
        "# Y el último parametro después de los dos puntos, que es el 3. Es para indicar que salte esa cantidad de elementos\n",
        "# El salto lo cuenta desde el 0, luego cuenta desde el 7\n",
        "array_uni[0::3] # Rpta: [1, 7]"
      ],
      "metadata": {
        "colab": {
          "base_uri": "https://localhost:8080/"
        },
        "id": "S2m0lfn7Oy__",
        "outputId": "b69fc4bd-c2a0-4e5b-ad7e-1b738168a952"
      },
      "execution_count": 32,
      "outputs": [
        {
          "output_type": "execute_result",
          "data": {
            "text/plain": [
              "array([1, 7])"
            ]
          },
          "metadata": {},
          "execution_count": 32
        }
      ]
    },
    {
      "cell_type": "markdown",
      "source": [
        "### Array multidimensional"
      ],
      "metadata": {
        "id": "gsRF3k55O_5X"
      }
    },
    {
      "cell_type": "code",
      "source": [
        "# Creación de un Array multidimensional\n",
        "array_multi = np.array( [ [1, 2, 3, 4] , [5, 6, 7, 8] ] )\n",
        "print(\"shape: \", array_multi.shape) # (2, 4)\n",
        "print(array_multi)"
      ],
      "metadata": {
        "colab": {
          "base_uri": "https://localhost:8080/"
        },
        "id": "_KcdHubaPC2K",
        "outputId": "ca807ff8-8f3f-47de-ed23-65e2e30c98e0"
      },
      "execution_count": 36,
      "outputs": [
        {
          "output_type": "stream",
          "name": "stdout",
          "text": [
            "shape:  (2, 4)\n",
            "[[1 2 3 4]\n",
            " [5 6 7 8]]\n"
          ]
        }
      ]
    },
    {
      "cell_type": "code",
      "source": [
        "# Accediendo al cuarto elemento del Array\n",
        "# [fila, columna]\n",
        "array_multi[0, 3] # Rpta: 4"
      ],
      "metadata": {
        "colab": {
          "base_uri": "https://localhost:8080/"
        },
        "id": "deF9CESKSpUK",
        "outputId": "f5bad102-cefb-4128-977d-4132400e9be4"
      },
      "execution_count": 37,
      "outputs": [
        {
          "output_type": "execute_result",
          "data": {
            "text/plain": [
              "4"
            ]
          },
          "metadata": {},
          "execution_count": 37
        }
      ]
    },
    {
      "cell_type": "code",
      "source": [
        "# Accediendo a la segunda fila del Array\n",
        "# Ejemplo [fila 1, : los dos puntitos permite acceso a todas las filas hacia abajo ]\n",
        "array_multi[1, :] # Rpta: [5, 6, 7, 8]"
      ],
      "metadata": {
        "colab": {
          "base_uri": "https://localhost:8080/"
        },
        "id": "Nz1rLu2OTNdQ",
        "outputId": "2d9a0fd8-a10d-41ce-be53-b8f6789c7bcf"
      },
      "execution_count": 41,
      "outputs": [
        {
          "output_type": "execute_result",
          "data": {
            "text/plain": [
              "array([5, 6, 7, 8])"
            ]
          },
          "metadata": {},
          "execution_count": 41
        }
      ]
    },
    {
      "cell_type": "code",
      "source": [
        "# Accediendo al tercer elemento de las dos primeras filas del Array\n",
        "# Ejemplo [ desde la fila 0 a la 2 , saca el elemento en posición 2 ]\n",
        "array_multi[0:2, 2] # Rpta: [3, 7]"
      ],
      "metadata": {
        "colab": {
          "base_uri": "https://localhost:8080/"
        },
        "id": "H-Mp1ohWTQoI",
        "outputId": "a10c7388-ff0e-4155-93cc-290fc6421f78"
      },
      "execution_count": 42,
      "outputs": [
        {
          "output_type": "execute_result",
          "data": {
            "text/plain": [
              "array([3, 7])"
            ]
          },
          "metadata": {},
          "execution_count": 42
        }
      ]
    },
    {
      "cell_type": "markdown",
      "source": [
        "### Modificar Elementos de un Array"
      ],
      "metadata": {
        "id": "w0SfObn9WBUg"
      }
    },
    {
      "cell_type": "code",
      "source": [
        "# Creación de un Array unidimensional inicializado con el rango de elementos 0-27\n",
        "array1 = np.arange(28) # Rpta: [ 0,  1,  2,  3,  4,  5,  6,  7,  8,  9, 10, 11, 12, 13, 14, 15, 16, 17, 18, 19, 20, 21, 22, 23, 24, 25, 26]\n",
        "array1"
      ],
      "metadata": {
        "colab": {
          "base_uri": "https://localhost:8080/"
        },
        "id": "ERhKZhmAWAni",
        "outputId": "e292965f-a799-4d82-a9e6-d22fc2953367"
      },
      "execution_count": 51,
      "outputs": [
        {
          "output_type": "execute_result",
          "data": {
            "text/plain": [
              "array([ 0,  1,  2,  3,  4,  5,  6,  7,  8,  9, 10, 11, 12, 13, 14, 15, 16,\n",
              "       17, 18, 19, 20, 21, 22, 23, 24, 25, 26, 27])"
            ]
          },
          "metadata": {},
          "execution_count": 51
        }
      ]
    },
    {
      "cell_type": "code",
      "source": [
        "# Cambiar las dimensiones del Array y sus longitudes. Se puede transformar el \"shape\" para que en lugar de que sean 28 lugares con valores\n",
        "# consecutivos, sea uno de 7 por 4 filas.\n",
        "# Se accede a su atribute \"shape\" y se le asigna un nuevo \"shape\"\n",
        "array1.shape = (7, 4) # Se reordena. Ojo que salta error si el \"shape\" no encaja. Tira error para un \"shape\" (7, 5) por ejemplo\n",
        "array1"
      ],
      "metadata": {
        "colab": {
          "base_uri": "https://localhost:8080/"
        },
        "id": "l3VGzunnUeAm",
        "outputId": "1f68c05e-c6dd-421a-a99e-279ac68a6906"
      },
      "execution_count": 53,
      "outputs": [
        {
          "output_type": "execute_result",
          "data": {
            "text/plain": [
              "array([[ 0,  1,  2,  3],\n",
              "       [ 4,  5,  6,  7],\n",
              "       [ 8,  9, 10, 11],\n",
              "       [12, 13, 14, 15],\n",
              "       [16, 17, 18, 19],\n",
              "       [20, 21, 22, 23],\n",
              "       [24, 25, 26, 27]])"
            ]
          },
          "metadata": {},
          "execution_count": 53
        }
      ]
    },
    {
      "cell_type": "code",
      "source": [
        "# El ejemplo anterior devuelve un nuevo Array que apunta a los mismos datos.\n",
        "# Importante: Modificaciones en un Array, modifican el otro Array. Es decir siempre apunta al mismo objeto\n",
        "# En el ejemplo a \"array2\" se le asigna el \"reshape\" de \"array1\", sin modificar \"array1\"\n",
        "array2 = array1.reshape(4, 7)\n",
        "print(\"array2 \", array2)\n",
        "print(\"array1 \", array1)"
      ],
      "metadata": {
        "colab": {
          "base_uri": "https://localhost:8080/"
        },
        "id": "RWy0aJ5bWSxt",
        "outputId": "1ba19e99-27dd-4331-ff78-be8e15b4fee0"
      },
      "execution_count": 56,
      "outputs": [
        {
          "output_type": "stream",
          "name": "stdout",
          "text": [
            "array2  [[ 0  1  2  3  4  5  6]\n",
            " [ 7  8  9 10 11 12 13]\n",
            " [14 15 16 17 18 19 20]\n",
            " [21 22 23 24 25 26 27]]\n",
            "array1  [[ 0  1  2  3]\n",
            " [ 4  5  6  7]\n",
            " [ 8  9 10 11]\n",
            " [12 13 14 15]\n",
            " [16 17 18 19]\n",
            " [20 21 22 23]\n",
            " [24 25 26 27]]\n"
          ]
        }
      ]
    },
    {
      "cell_type": "code",
      "source": [
        "# Modificación del nuevo Array devuelto\n",
        "# Se le mete el 20 tanto a \"array1\" como a \"array2\", porque éstas funciones de \"reshape\" cuando se las asignamos a otro array, parece que está\n",
        "# creando una copia, porque lo que devuelve es de dimensiones diferentes.\n",
        "# PERO NO!! Porque lo que en realidad es, es una referencia al original nada mas que se reordenan sus dimensiones, pero sus elementos son los mismos\n",
        "array2[0, 3] = 20"
      ],
      "metadata": {
        "id": "9n6odRoYWeHO"
      },
      "execution_count": 46,
      "outputs": []
    },
    {
      "cell_type": "code",
      "source": [
        "# Desenvuelve el Array, devolviendo un nuevo Array de una sola dimension\n",
        "# Importante: El nuevo array apunta a los mismos datos. Este ejemplo funciona como el anterior, los \"nuevos arrays\" no son más que punteros a los originales\n",
        "# ravel: desenvuelve el array original. Es decir que retorna el unidimensional\n",
        "array1.ravel()"
      ],
      "metadata": {
        "colab": {
          "base_uri": "https://localhost:8080/"
        },
        "id": "qvLLvIexWiye",
        "outputId": "206e953e-64d9-4178-9b29-dcf3801b87b2"
      },
      "execution_count": 57,
      "outputs": [
        {
          "output_type": "execute_result",
          "data": {
            "text/plain": [
              "array([ 0,  1,  2,  3,  4,  5,  6,  7,  8,  9, 10, 11, 12, 13, 14, 15, 16,\n",
              "       17, 18, 19, 20, 21, 22, 23, 24, 25, 26, 27])"
            ]
          },
          "metadata": {},
          "execution_count": 57
        }
      ]
    },
    {
      "cell_type": "markdown",
      "source": [
        "### Operaciónes Aritmeticas"
      ],
      "metadata": {
        "id": "9dsVbi9lawc2"
      }
    },
    {
      "cell_type": "code",
      "source": [
        "# Creación de dos Arrays unidimensionales\n",
        "array1 = np.arange(2, 18, 2)\n",
        "array2 = np.arange(8)\n",
        "print(\"Array1: \", array1)\n",
        "print(\"Array2: \", array2)"
      ],
      "metadata": {
        "colab": {
          "base_uri": "https://localhost:8080/"
        },
        "id": "vb5EonypWu1S",
        "outputId": "c20bdbff-66ba-4ea0-d1fc-4e8114d2ba54"
      },
      "execution_count": 58,
      "outputs": [
        {
          "output_type": "stream",
          "name": "stdout",
          "text": [
            "Array1:  [ 2  4  6  8 10 12 14 16]\n",
            "Array2:  [0 1 2 3 4 5 6 7]\n"
          ]
        }
      ]
    },
    {
      "cell_type": "code",
      "source": [
        "# Suma\n",
        "# Suma uno a uno los elementos del primer array con el segundo\n",
        "array1 + array2"
      ],
      "metadata": {
        "colab": {
          "base_uri": "https://localhost:8080/"
        },
        "id": "wrPVEzh1bFPJ",
        "outputId": "7c183d7e-f621-4a94-a62b-9c88739d0ee9"
      },
      "execution_count": 62,
      "outputs": [
        {
          "output_type": "execute_result",
          "data": {
            "text/plain": [
              "array([ 2,  5,  8, 11, 14, 17, 20, 23])"
            ]
          },
          "metadata": {},
          "execution_count": 62
        }
      ]
    },
    {
      "cell_type": "code",
      "source": [
        "# Resta\n",
        "array1 - array2"
      ],
      "metadata": {
        "colab": {
          "base_uri": "https://localhost:8080/"
        },
        "id": "GgeE3zyhbGk4",
        "outputId": "686a5ede-e755-4300-88d2-69cfb2cd1983"
      },
      "execution_count": 63,
      "outputs": [
        {
          "output_type": "execute_result",
          "data": {
            "text/plain": [
              "array([2, 3, 4, 5, 6, 7, 8, 9])"
            ]
          },
          "metadata": {},
          "execution_count": 63
        }
      ]
    },
    {
      "cell_type": "code",
      "source": [
        "# Multiplicación. IMPORTANTE!! NO ES MULTIPLICACION DE MATRICES\n",
        "# Multiploca elemento por elemento\n",
        "array1 * array2"
      ],
      "metadata": {
        "colab": {
          "base_uri": "https://localhost:8080/"
        },
        "id": "fZKaSr2qbH87",
        "outputId": "443e6d7a-c538-42bd-c33e-bec1ad95aad1"
      },
      "execution_count": 64,
      "outputs": [
        {
          "output_type": "execute_result",
          "data": {
            "text/plain": [
              "array([  0,   4,  12,  24,  40,  60,  84, 112])"
            ]
          },
          "metadata": {},
          "execution_count": 64
        }
      ]
    },
    {
      "cell_type": "markdown",
      "source": [
        "### Broadcasting\n",
        "Si se palican operaciónes aritméticas sobre Arrays que no tienen la misma forma (shape). Numpy aplica una propiedad que se denomina Broadcasting"
      ],
      "metadata": {
        "id": "0ElnKPrMb2H8"
      }
    },
    {
      "cell_type": "code",
      "source": [
        "# Creación de dos Arrays unidimensionales\n",
        "array1 = np.arange(5) # Unidimensional con 5 elementos\n",
        "array2 = np.array( [3] ) # Unidimensional con 1 elemento\n",
        "print(\"Shape Array 1: \", array1.shape)\n",
        "print(\"Array 1: \", array1) # Rpta: [0 1 2 3 4]\n",
        "print()\n",
        "print(\"Shape Array 2: \", array2.shape)\n",
        "print(\"Array 2: \", array2) # Rpta: [ 3 ]"
      ],
      "metadata": {
        "colab": {
          "base_uri": "https://localhost:8080/"
        },
        "id": "Jv6sqyRybOeu",
        "outputId": "0c3615fa-d791-41a7-d7da-4f7241d1d197"
      },
      "execution_count": 66,
      "outputs": [
        {
          "output_type": "stream",
          "name": "stdout",
          "text": [
            "Shape Array 1:  (5,)\n",
            "Array 1:  [0 1 2 3 4]\n",
            "\n",
            "Shape Array 2:  (1,)\n",
            "Array 2:  [3]\n"
          ]
        }
      ]
    },
    {
      "cell_type": "code",
      "source": [
        "# Suma de ambos Arrays. Acá el \"Broadcasting\" lo que hace es \"compensar\". Como los arrays son diferentes en cantidad de elementos\n",
        "# (tienen la misma dimension, pero uno tiene mas elementos que el otro). El \"Broadcasting\" toma el elemento del que menos tiene y lo\n",
        "# usa para sumar a todos los elementos del array que más tiene.\n",
        "# Conserva la longitud del de mayor cantidad de elementos\n",
        "array1 + array2 # Rpta: [3, 4, 5, 6, 7]"
      ],
      "metadata": {
        "colab": {
          "base_uri": "https://localhost:8080/"
        },
        "id": "vc05fxcZdT2i",
        "outputId": "753d746a-b0c2-4099-fe11-c6b9b2c32d7d"
      },
      "execution_count": 68,
      "outputs": [
        {
          "output_type": "execute_result",
          "data": {
            "text/plain": [
              "array([3, 4, 5, 6, 7])"
            ]
          },
          "metadata": {},
          "execution_count": 68
        }
      ]
    },
    {
      "cell_type": "code",
      "source": [
        "# Creación de dos Arrays multidimensionales y unidimensional\n",
        "array1 = np.arange(6)\n",
        "array1.shape = (2, 3)\n",
        "array2 = np.arange(6, 18, 4)\n",
        "print(\"Shape Array 1: \", array1.shape) # Rpata: (2, 3)\n",
        "print(\"Array 1: \", array1) # Rpta: [[0 1 2] [3 4 5]]\n",
        "print()\n",
        "print(\"Shape Array 2: \", array2.shape) # (3,)\n",
        "print(\"Array 2: \", array2) # Rpta: [ 6 10 14]"
      ],
      "metadata": {
        "colab": {
          "base_uri": "https://localhost:8080/"
        },
        "id": "_WWlU2qteQQF",
        "outputId": "73e20d9f-60ae-4538-c41f-48761fe91601"
      },
      "execution_count": 69,
      "outputs": [
        {
          "output_type": "stream",
          "name": "stdout",
          "text": [
            "Shape Array 1:  (2, 3)\n",
            "Array 1:  [[0 1 2]\n",
            " [3 4 5]]\n",
            "\n",
            "Shape Array 2:  (3,)\n",
            "Array 2:  [ 6 10 14]\n"
          ]
        }
      ]
    },
    {
      "cell_type": "code",
      "source": [
        "# Suma. El \"Broadcasting\" hace que agarre la unica fila (de 3 elementos) del \"array2\" y la usa dos veces (como si la duplicase).\n",
        "# Entonces con una misma fila suma las dos filas del \"array1\"\n",
        "array1 + array2 # Rpta: [[ 6, 11, 16], [ 9, 14, 19]]"
      ],
      "metadata": {
        "colab": {
          "base_uri": "https://localhost:8080/"
        },
        "id": "L7YJa7Khe9nf",
        "outputId": "b555aa7a-d040-4aef-f83e-d4c661d70191"
      },
      "execution_count": 70,
      "outputs": [
        {
          "output_type": "execute_result",
          "data": {
            "text/plain": [
              "array([[ 6, 11, 16],\n",
              "       [ 9, 14, 19]])"
            ]
          },
          "metadata": {},
          "execution_count": 70
        }
      ]
    },
    {
      "cell_type": "markdown",
      "source": [
        "### Funciones Estadísticas sobre Arrays"
      ],
      "metadata": {
        "id": "HWwj80VJgD07"
      }
    },
    {
      "cell_type": "code",
      "source": [
        "# Creación de un Array unidimensional\n",
        "array1 = np.arange(1, 20, 2)\n",
        "print(\"Array 1: \", array1) # Rpta: [ 1  3  5  7  9 11 13 15 17 19]"
      ],
      "metadata": {
        "colab": {
          "base_uri": "https://localhost:8080/"
        },
        "id": "wkhWa8C5f1tM",
        "outputId": "5150b34c-4db1-4c33-e94c-8e822de6d008"
      },
      "execution_count": 72,
      "outputs": [
        {
          "output_type": "stream",
          "name": "stdout",
          "text": [
            "Array 1:  [ 1  3  5  7  9 11 13 15 17 19]\n"
          ]
        }
      ]
    },
    {
      "cell_type": "code",
      "source": [
        "# Media de los elementos del Array\n",
        "array1.mean()"
      ],
      "metadata": {
        "colab": {
          "base_uri": "https://localhost:8080/"
        },
        "id": "3cqhOvBugSw7",
        "outputId": "f588e5d3-312e-4a42-d5c1-520980f93e86"
      },
      "execution_count": 78,
      "outputs": [
        {
          "output_type": "execute_result",
          "data": {
            "text/plain": [
              "10.0"
            ]
          },
          "metadata": {},
          "execution_count": 78
        }
      ]
    },
    {
      "cell_type": "code",
      "source": [
        "# Suma de los elementos de Array\n",
        "array1.sum()"
      ],
      "metadata": {
        "colab": {
          "base_uri": "https://localhost:8080/"
        },
        "id": "iECcg8hUgaRZ",
        "outputId": "ac355a09-b267-4aeb-ddba-63c75861fbb4"
      },
      "execution_count": 80,
      "outputs": [
        {
          "output_type": "execute_result",
          "data": {
            "text/plain": [
              "100"
            ]
          },
          "metadata": {},
          "execution_count": 80
        }
      ]
    },
    {
      "cell_type": "code",
      "source": [
        "# Con dir se pueden obtener todos los metodos con los que cuenta un array\n",
        "dir(array1) # Rpta: devuelve una lista"
      ],
      "metadata": {
        "colab": {
          "base_uri": "https://localhost:8080/"
        },
        "id": "FqrNj67fhVR7",
        "outputId": "994cb640-1e1f-4514-b911-942b2f4858f1"
      },
      "execution_count": 81,
      "outputs": [
        {
          "output_type": "execute_result",
          "data": {
            "text/plain": [
              "['T',\n",
              " '__abs__',\n",
              " '__add__',\n",
              " '__and__',\n",
              " '__array__',\n",
              " '__array_finalize__',\n",
              " '__array_function__',\n",
              " '__array_interface__',\n",
              " '__array_prepare__',\n",
              " '__array_priority__',\n",
              " '__array_struct__',\n",
              " '__array_ufunc__',\n",
              " '__array_wrap__',\n",
              " '__bool__',\n",
              " '__class__',\n",
              " '__class_getitem__',\n",
              " '__complex__',\n",
              " '__contains__',\n",
              " '__copy__',\n",
              " '__deepcopy__',\n",
              " '__delattr__',\n",
              " '__delitem__',\n",
              " '__dir__',\n",
              " '__divmod__',\n",
              " '__dlpack__',\n",
              " '__dlpack_device__',\n",
              " '__doc__',\n",
              " '__eq__',\n",
              " '__float__',\n",
              " '__floordiv__',\n",
              " '__format__',\n",
              " '__ge__',\n",
              " '__getattribute__',\n",
              " '__getitem__',\n",
              " '__gt__',\n",
              " '__hash__',\n",
              " '__iadd__',\n",
              " '__iand__',\n",
              " '__ifloordiv__',\n",
              " '__ilshift__',\n",
              " '__imatmul__',\n",
              " '__imod__',\n",
              " '__imul__',\n",
              " '__index__',\n",
              " '__init__',\n",
              " '__init_subclass__',\n",
              " '__int__',\n",
              " '__invert__',\n",
              " '__ior__',\n",
              " '__ipow__',\n",
              " '__irshift__',\n",
              " '__isub__',\n",
              " '__iter__',\n",
              " '__itruediv__',\n",
              " '__ixor__',\n",
              " '__le__',\n",
              " '__len__',\n",
              " '__lshift__',\n",
              " '__lt__',\n",
              " '__matmul__',\n",
              " '__mod__',\n",
              " '__mul__',\n",
              " '__ne__',\n",
              " '__neg__',\n",
              " '__new__',\n",
              " '__or__',\n",
              " '__pos__',\n",
              " '__pow__',\n",
              " '__radd__',\n",
              " '__rand__',\n",
              " '__rdivmod__',\n",
              " '__reduce__',\n",
              " '__reduce_ex__',\n",
              " '__repr__',\n",
              " '__rfloordiv__',\n",
              " '__rlshift__',\n",
              " '__rmatmul__',\n",
              " '__rmod__',\n",
              " '__rmul__',\n",
              " '__ror__',\n",
              " '__rpow__',\n",
              " '__rrshift__',\n",
              " '__rshift__',\n",
              " '__rsub__',\n",
              " '__rtruediv__',\n",
              " '__rxor__',\n",
              " '__setattr__',\n",
              " '__setitem__',\n",
              " '__setstate__',\n",
              " '__sizeof__',\n",
              " '__str__',\n",
              " '__sub__',\n",
              " '__subclasshook__',\n",
              " '__truediv__',\n",
              " '__xor__',\n",
              " 'all',\n",
              " 'any',\n",
              " 'argmax',\n",
              " 'argmin',\n",
              " 'argpartition',\n",
              " 'argsort',\n",
              " 'astype',\n",
              " 'base',\n",
              " 'byteswap',\n",
              " 'choose',\n",
              " 'clip',\n",
              " 'compress',\n",
              " 'conj',\n",
              " 'conjugate',\n",
              " 'copy',\n",
              " 'ctypes',\n",
              " 'cumprod',\n",
              " 'cumsum',\n",
              " 'data',\n",
              " 'diagonal',\n",
              " 'dot',\n",
              " 'dtype',\n",
              " 'dump',\n",
              " 'dumps',\n",
              " 'fill',\n",
              " 'flags',\n",
              " 'flat',\n",
              " 'flatten',\n",
              " 'getfield',\n",
              " 'imag',\n",
              " 'item',\n",
              " 'itemset',\n",
              " 'itemsize',\n",
              " 'max',\n",
              " 'mean',\n",
              " 'min',\n",
              " 'nbytes',\n",
              " 'ndim',\n",
              " 'newbyteorder',\n",
              " 'nonzero',\n",
              " 'partition',\n",
              " 'prod',\n",
              " 'ptp',\n",
              " 'put',\n",
              " 'ravel',\n",
              " 'real',\n",
              " 'repeat',\n",
              " 'reshape',\n",
              " 'resize',\n",
              " 'round',\n",
              " 'searchsorted',\n",
              " 'setfield',\n",
              " 'setflags',\n",
              " 'shape',\n",
              " 'size',\n",
              " 'sort',\n",
              " 'squeeze',\n",
              " 'std',\n",
              " 'strides',\n",
              " 'sum',\n",
              " 'swapaxes',\n",
              " 'take',\n",
              " 'tobytes',\n",
              " 'tofile',\n",
              " 'tolist',\n",
              " 'tostring',\n",
              " 'trace',\n",
              " 'transpose',\n",
              " 'var',\n",
              " 'view']"
            ]
          },
          "metadata": {},
          "execution_count": 81
        }
      ]
    },
    {
      "cell_type": "markdown",
      "source": [
        "#### Funciones universales eficientes proporcionadas por Numpy: ufunc\n",
        "universal funcs"
      ],
      "metadata": {
        "id": "tehz6qV4ghRu"
      }
    },
    {
      "cell_type": "code",
      "source": [
        "# Cuadrado de los elementos del Array\n",
        "np.square(array1) # [  1,   9,  25,  49,  81, 121, 169, 225, 289, 361]"
      ],
      "metadata": {
        "colab": {
          "base_uri": "https://localhost:8080/"
        },
        "id": "olnsBl4PgplA",
        "outputId": "0361c1f9-08dd-4146-c7d9-d18801e1c90c"
      },
      "execution_count": 83,
      "outputs": [
        {
          "output_type": "execute_result",
          "data": {
            "text/plain": [
              "array([  1,   9,  25,  49,  81, 121, 169, 225, 289, 361])"
            ]
          },
          "metadata": {},
          "execution_count": 83
        }
      ]
    },
    {
      "cell_type": "code",
      "source": [
        "# Raíz cuadrada de los elementos del Array\n",
        "np.sqrt(array1) # [1.        , 1.73205081, 2.23606798, 2.64575131, 3. , 3.31662479, 3.60555128, 3.87298335, 4.12310563, 4.35889894]"
      ],
      "metadata": {
        "colab": {
          "base_uri": "https://localhost:8080/"
        },
        "id": "CVbABmbbgvEq",
        "outputId": "b34d1228-08f5-423d-afd4-56490fe491a7"
      },
      "execution_count": 84,
      "outputs": [
        {
          "output_type": "execute_result",
          "data": {
            "text/plain": [
              "array([1.        , 1.73205081, 2.23606798, 2.64575131, 3.        ,\n",
              "       3.31662479, 3.60555128, 3.87298335, 4.12310563, 4.35889894])"
            ]
          },
          "metadata": {},
          "execution_count": 84
        }
      ]
    },
    {
      "cell_type": "code",
      "source": [
        "# Exponencial de los elementos del Array\n",
        "np.exp(array1)"
      ],
      "metadata": {
        "colab": {
          "base_uri": "https://localhost:8080/"
        },
        "id": "2b-dy5tWgydt",
        "outputId": "3abb6ed2-413b-419c-81e2-d5b2ad76540d"
      },
      "execution_count": 85,
      "outputs": [
        {
          "output_type": "execute_result",
          "data": {
            "text/plain": [
              "array([2.71828183e+00, 2.00855369e+01, 1.48413159e+02, 1.09663316e+03,\n",
              "       8.10308393e+03, 5.98741417e+04, 4.42413392e+05, 3.26901737e+06,\n",
              "       2.41549528e+07, 1.78482301e+08])"
            ]
          },
          "metadata": {},
          "execution_count": 85
        }
      ]
    },
    {
      "cell_type": "code",
      "source": [
        "# Logaritmo de los elementos del Array\n",
        "np.log(array1)"
      ],
      "metadata": {
        "colab": {
          "base_uri": "https://localhost:8080/"
        },
        "id": "RDHBcF-Eg1AW",
        "outputId": "159fc45c-87e4-484a-f8f3-039931774c8c"
      },
      "execution_count": 86,
      "outputs": [
        {
          "output_type": "execute_result",
          "data": {
            "text/plain": [
              "array([0.        , 1.09861229, 1.60943791, 1.94591015, 2.19722458,\n",
              "       2.39789527, 2.56494936, 2.7080502 , 2.83321334, 2.94443898])"
            ]
          },
          "metadata": {},
          "execution_count": 86
        }
      ]
    },
    {
      "cell_type": "code",
      "source": [],
      "metadata": {
        "id": "OcLbg0-uikf3"
      },
      "execution_count": null,
      "outputs": []
    }
  ]
}