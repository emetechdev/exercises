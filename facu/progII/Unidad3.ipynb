{
  "nbformat": 4,
  "nbformat_minor": 0,
  "metadata": {
    "colab": {
      "provenance": []
    },
    "kernelspec": {
      "name": "python3",
      "display_name": "Python 3"
    },
    "language_info": {
      "name": "python"
    }
  },
  "cells": [
    {
      "cell_type": "markdown",
      "source": [
        "# Unidad 3\n",
        "Trabajamos con análisis de datos con **numpy, pandas y matplotlib**.\n",
        "**Numpy** trabaja con vectores y el conjunto o estructuras de datos de numpy ofrece ventajas:\n",
        "- Los datos son homogéneos\n",
        "- Las matrices son más rápidas y compactas.\n",
        "- Usan menos memoria\n",
        "Las estructuras numpy están diseñadas para tener un mejor rendimiento y mejorar la administración del espacio.\n",
        "\n",
        "## Matriz\n",
        "Es una cuadricula de datos, son del mismo tipo (*dtype*), tienen un índice entero positivo y tiene una dimensión o **rank**.\n"
      ],
      "metadata": {
        "id": "fn6FNA8REMew"
      }
    },
    {
      "cell_type": "code",
      "execution_count": 1,
      "metadata": {
        "id": "HgEPBSjA5YBx"
      },
      "outputs": [],
      "source": [
        "import numpy as np"
      ]
    },
    {
      "cell_type": "code",
      "source": [
        "# Acá se define una estructura de tipo array que contiene una lista a la cual se le define el tipo de dato\n",
        "# y como todos los elementos deben ser del mismo tipo, ésto quiere decir que no se va a poder trabajar con estructuras de datos múltiples (datos variasos dentro del mismo vector)\n",
        "lista = [1, 2, 3]\n",
        "mat = np.array(lista, dtype=np.int32)\n",
        "\n",
        "print(type(mat)) # Acá mostramos el tipo\n",
        "print(mat) # Mostramos los valores de la lista\n",
        "print(mat.ndim) # Vemos la cantidad de dimensiones\n",
        "print(np.shape(mat)) # Preguntamos cuantos elementos tiene la estructura"
      ],
      "metadata": {
        "colab": {
          "base_uri": "https://localhost:8080/"
        },
        "id": "bpNZe8WRG0ZN",
        "outputId": "68a521f9-7537-4458-cb58-6acf5243ebd2"
      },
      "execution_count": 4,
      "outputs": [
        {
          "output_type": "stream",
          "name": "stdout",
          "text": [
            "<class 'numpy.ndarray'>\n",
            "[1 2 3]\n",
            "1\n",
            "(3,)\n"
          ]
        }
      ]
    },
    {
      "cell_type": "code",
      "source": [
        "# Podemos crear estructuras inicializadas\n",
        "mat_zeros = np.zeros( (3, 3) )\n",
        "mat_unos = np.ones( (3, 3) )\n",
        "mat_empty = np.empty( (3, 3) )\n",
        "\n",
        "print(mat_zeros)\n",
        "print(mat_unos)\n",
        "# \"np.empty\" crea una estructura con valores al azar y regularmente suele estar llena de basura\n",
        "# así que puedde estár llena de ceros o de numero aleatorios\n",
        "print(mat_empty)"
      ],
      "metadata": {
        "colab": {
          "base_uri": "https://localhost:8080/"
        },
        "id": "dJNPrgn4Ifxp",
        "outputId": "fd70d646-73cc-4e93-d17c-dc0d83959410"
      },
      "execution_count": 10,
      "outputs": [
        {
          "output_type": "stream",
          "name": "stdout",
          "text": [
            "[[0. 0. 0.]\n",
            " [0. 0. 0.]\n",
            " [0. 0. 0.]]\n",
            "[[1. 1. 1.]\n",
            " [1. 1. 1.]\n",
            " [1. 1. 1.]]\n",
            "[[1. 1. 1.]\n",
            " [1. 1. 1.]\n",
            " [1. 1. 1.]]\n"
          ]
        }
      ]
    },
    {
      "cell_type": "code",
      "source": [
        "# Tambien se puden multiplicar, sumar, restar, dividir, etc\n",
        "mat_multiplicacion = np.ones( (3, 4) )\n",
        "print(mat * 5)\n",
        "print(np.sum(mat)) # Aca suma todos los elementos en una sola funcion"
      ],
      "metadata": {
        "colab": {
          "base_uri": "https://localhost:8080/"
        },
        "id": "GNTG3r1HJC3v",
        "outputId": "30309128-c999-400c-cec9-5a196f34872e"
      },
      "execution_count": 11,
      "outputs": [
        {
          "output_type": "stream",
          "name": "stdout",
          "text": [
            "[0. 0. 0.]\n",
            "0.0\n"
          ]
        }
      ]
    },
    {
      "cell_type": "code",
      "source": [
        "# Otro ejemplo de suma\n",
        "lista_matriz = [ [1, 2], [3, 4], [5, 6], [7, 8] ]\n",
        "lista_matriz = np.array(lista_matriz, dtype=np.int32)\n",
        "print(lista_matriz)\n",
        "\n",
        "# \"flip\" convierte una matriz. Lo que hace es invertirla.\n",
        "print(\"\\nUso de flip:\")\n",
        "print(np.flip(lista_matriz))\n",
        "\n",
        "print(\"\\nUso de flip, para afectar solo fias:\")\n",
        "# Usar flip para invertir solo las filas\n",
        "print(np.flip(lista_matriz, axis=0))"
      ],
      "metadata": {
        "colab": {
          "base_uri": "https://localhost:8080/"
        },
        "id": "U_vx7XzrLEzU",
        "outputId": "c83dfb36-1a09-453c-9b53-36431908a20b"
      },
      "execution_count": 15,
      "outputs": [
        {
          "output_type": "stream",
          "name": "stdout",
          "text": [
            "[[1 2]\n",
            " [3 4]\n",
            " [5 6]\n",
            " [7 8]]\n",
            "\n",
            "Uso de flip:\n",
            "[[8 7]\n",
            " [6 5]\n",
            " [4 3]\n",
            " [2 1]]\n",
            "\n",
            "Uso de flip, para afectar solo fias:\n",
            "[[7 8]\n",
            " [5 6]\n",
            " [3 4]\n",
            " [1 2]]\n"
          ]
        }
      ]
    },
    {
      "cell_type": "code",
      "source": [
        "# Creando una matriz de una dimension con numeros ordenados ascendentemente. Solo se indica cantidad de elementos\n",
        "matriz_2 = np.arange(8)\n",
        "print(matriz_2)\n",
        "\n",
        "# Acá se reestructura la matriz creada para hacerla bideimensional. Hay que tener en cuenta que la reestructuracion\n",
        "# no la hace de forma inteligente sino que hay que pasarle la distribucion correcta para que no rompa\n",
        "print(\"\\nReshape\")\n",
        "matriz_redimensionada = matriz_2.reshape(4, 2)\n",
        "print(matriz_redimensionada)\n",
        "\n",
        "# \"flatten\" agarra todas las dimensiones de la matriz y la convierte en una sola dimension\n",
        "# Convierte una matroz en un vector\n",
        "print(\"\\nFlatten\")\n",
        "print(matriz_redimensionada.flatten())\n"
      ],
      "metadata": {
        "colab": {
          "base_uri": "https://localhost:8080/"
        },
        "id": "pW2EsGLwLfM7",
        "outputId": "db976f62-0901-45dd-a5eb-9604cdb5f99e"
      },
      "execution_count": 20,
      "outputs": [
        {
          "output_type": "stream",
          "name": "stdout",
          "text": [
            "[0 1 2 3 4 5 6 7]\n",
            "\n",
            "Reshape\n",
            "[[0 1]\n",
            " [2 3]\n",
            " [4 5]\n",
            " [6 7]]\n",
            "\n",
            "Flatten\n",
            "[0 1 2 3 4 5 6 7]\n"
          ]
        }
      ]
    },
    {
      "cell_type": "code",
      "source": [
        "# Se puede crear una matriz con datos random.\n",
        "# Genera un vector al azar con valores entre 0 y 4 (éstos valores lo define el primer parametro), pero con 5 nodos (esto lo define el \"size\")\n",
        "matriz_random = np.random.randint(5, size=(5))\n",
        "print(matriz_random)\n",
        "\n",
        "print(\"\\nGenerando matriz con datos random pero con 5 Filas y 2 Columnas\")\n",
        "matriz_random_2 = np.random.randint(5, size=(5, 2))\n",
        "print(matriz_random_2)\n",
        "\n",
        "# Tambien se pueden obtener máximos, mínimos, datos sin repetir, entre otros.\n",
        "# Consultar la docu para mas opciones"
      ],
      "metadata": {
        "colab": {
          "base_uri": "https://localhost:8080/"
        },
        "id": "JR7sNN9KOBHR",
        "outputId": "54dcaed8-8c3f-4fbf-f906-74421411e469"
      },
      "execution_count": 24,
      "outputs": [
        {
          "output_type": "stream",
          "name": "stdout",
          "text": [
            "[0 3 4 4 2]\n",
            "\n",
            "Generando matriz con datos random pero con 5 Filas y 2 Columnas\n",
            "[[0 2]\n",
            " [0 4]\n",
            " [0 0]\n",
            " [1 1]\n",
            " [1 2]]\n"
          ]
        }
      ]
    },
    {
      "cell_type": "code",
      "source": [
        "# Agregar y quitar valores en una estructura\n",
        "mat_add_q = np.random.randint(5, size=(5)) # Creo una estructura\n",
        "print(\"\\nMatriz con numeros random\")\n",
        "print(mat_add_q)\n",
        "# Piso esa misma variable para agregarle \"mat_add_q\" y un 9. El 9 lo agrega al final\n",
        "mat_add_q = np.append(mat_add_q, [9])\n",
        "print(\"\\nMatriz con elemento agregado\")\n",
        "print(mat_add_q)\n",
        "\n",
        "# Delete borra por posición\n",
        "mat_add_q = np.delete(mat_add_q, [0]) # Borra la posición cero\n",
        "print(\"\\nBorrar elemento de la posición cero\")\n",
        "print(mat_add_q)\n",
        "\n",
        "# Despues de borrar el primero, ahora le digo que borre los dos primeros de lo que quedó\n",
        "mat_add_q = np.delete(mat_add_q, [0, 1]) # Borra la posición cero y uno\n",
        "print(\"\\nBorra posición 0 y 1 de lo que quedó\")\n",
        "print(mat_add_q)\n",
        "\n",
        "# Insert agrega en la posición 0 un elemento \"100\"\n",
        "mat_add_q = np.insert(mat_add_q, 0, [100])\n",
        "print(\"\\nInserta elementos\")\n",
        "print(mat_add_q)\n",
        "\n"
      ],
      "metadata": {
        "colab": {
          "base_uri": "https://localhost:8080/"
        },
        "id": "EBJlbpraP1K2",
        "outputId": "8add3d1e-7345-42ee-a2b8-b47747359e78"
      },
      "execution_count": 27,
      "outputs": [
        {
          "output_type": "stream",
          "name": "stdout",
          "text": [
            "\n",
            "Matriz con numeros random\n",
            "[1 3 1 2 1]\n",
            "\n",
            "Matriz con elemento agregado\n",
            "[1 3 1 2 1 9]\n",
            "\n",
            "Borrar elemento de la posición cero\n",
            "[3 1 2 1 9]\n",
            "\n",
            "Borra posición 0 y 1 de lo que quedó\n",
            "[2 1 9]\n",
            "\n",
            "Inserta elementos\n",
            "[100   2   1   9]\n"
          ]
        }
      ]
    },
    {
      "cell_type": "markdown",
      "source": [
        "## Pandas"
      ],
      "metadata": {
        "id": "87Pblyw4Wjs5"
      }
    },
    {
      "cell_type": "code",
      "source": [
        "import pandas as pd"
      ],
      "metadata": {
        "id": "VENXywrFQ_c-"
      },
      "execution_count": 29,
      "outputs": []
    },
    {
      "cell_type": "code",
      "source": [
        "# ESTRUCTURAS DE UNA SOLA DIMENSION\n",
        "# Las series son inmutables igual que las tuplas y tienen un índice con el cual podemos acceder a los datos\n",
        "# index: sirve para modificar lo que lleva dentro, y le agrega indice (se lo renombra con otra lista con los nombres)\n",
        "series = pd.Series([1,2,2,3,4,5], dtype='int32', index=['a','b','c','d','e','f'])\n",
        "print(series)\n",
        "\n",
        "# Recorriendo una serie con un \"for\"\n",
        "print(\"\\nRecorriendo una serie con un 'for'\")\n",
        "for i in series:\n",
        "    print(i, end='-')\n",
        "\n",
        "print(\"\\nMetodo para contar la repeticion de cada elemento\")\n",
        "print(series.value_counts()) # Me dice que el 2 está 2 veces y el resto una\n",
        "\n",
        "# Ubicar un valor dentro de la serie tomando el índex\n",
        "print(\"\\nMostrar la posición 3 de la estructura 'Serie'\")\n",
        "print(series.iloc[2])\n",
        "\n",
        "# Busca por la mascara ('e') que se le da a la serie\n",
        "print('\\nMostrar usando \"loc\", que es la \"mascara\", \"etiqueta\" o \"el índice renombrado\": ', series.loc['e'])\n",
        "print(series.loc['e'])"
      ],
      "metadata": {
        "colab": {
          "base_uri": "https://localhost:8080/"
        },
        "id": "EV08UkYeXZ93",
        "outputId": "f91b31dc-49ec-4f41-eaf6-0c2e651bb7b7"
      },
      "execution_count": 32,
      "outputs": [
        {
          "output_type": "stream",
          "name": "stdout",
          "text": [
            "a    1\n",
            "b    2\n",
            "c    2\n",
            "d    3\n",
            "e    4\n",
            "f    5\n",
            "dtype: int32\n",
            "\n",
            "Recorriendo una serie con un 'for'\n",
            "1-2-2-3-4-5-\n",
            "Metodo para contar la repeticion de cada elemento\n",
            "2    2\n",
            "1    1\n",
            "3    1\n",
            "4    1\n",
            "5    1\n",
            "dtype: int64\n",
            "\n",
            "Mostrar la posición 3 de la estructura 'Serie'\n",
            "2\n",
            "\n",
            "Mostrar usando \"loc\", que es la \"mascara\", \"etiqueta\" o \"el índice renombrado\":  4\n",
            "4\n"
          ]
        }
      ]
    },
    {
      "cell_type": "code",
      "source": [
        "# ESTRUCTURAS MAS COMPLEJAS COMO LOS DATAFRAMES\n",
        "dic={'nombres':['juan', 'leo'], 'materia':['p2','bd'], 'nota':[10,8]}\n",
        "\n",
        "# Se pueden renombrar los indices. Es decir la primer columna que indica la posición de la fila\n",
        "df=pd.DataFrame(dic, index=['primer parcial', 'final'])\n",
        "print(df)\n",
        "\n",
        "# Se puede recorrer el data frame.\n",
        "print(\"\\nRecorriendo el dataframe\")\n",
        "for i in df:\n",
        "    print(i)"
      ],
      "metadata": {
        "colab": {
          "base_uri": "https://localhost:8080/"
        },
        "id": "MIRX9asJXmON",
        "outputId": "1f64062a-e4bf-48a6-b726-54199c852e67"
      },
      "execution_count": 34,
      "outputs": [
        {
          "output_type": "stream",
          "name": "stdout",
          "text": [
            "               nombres materia  nota\n",
            "primer parcial    juan      p2    10\n",
            "final              leo      bd     8\n",
            "\n",
            "Recorriendo el dataframe\n",
            "nombres\n",
            "materia\n",
            "nota\n"
          ]
        }
      ]
    },
    {
      "cell_type": "markdown",
      "source": [
        "### Ejemplo Pandas y Matplot\n",
        "```python\n",
        "import pandas as pd\n",
        "import matplotlib.pyplot as mp\n",
        "import os\n",
        "\n",
        "\n",
        "# Se puede trabajar con archivos externos --> .csv\n",
        "# fuente: https://datos.gob.ar/dataset/sspm-canasta-basica-alimentaria-regiones-pais\n",
        "df=pd.read_csv('./Numpy/canasta-basica.csv')\n",
        "df.plot(kind='bar',x='indice_tiempo',xlabel='Valores en Pesos', ylabel='Referencia en Pesos', title='Grafico')\n",
        "mp.show()\n",
        "\n",
        "# Hacer un grafico tomando la libreria de matplot pero metiendole datos\n",
        "file=df.iloc[1]\n",
        "# Le digo que me traiga de esta fila, todos los indices (osea los nombres de las columnas).\n",
        "# Y a esto lo voy a convertir en una lista. y despues hago lo mismo con los valores\n",
        "indices=['a','b']\n",
        "valores=[1,2]\n",
        "mp.bar(indices,valores,color='green')\n",
        "mp.xlabel='Prov'\n",
        "mp.ylabel='Valores'\n",
        "mp.title('Grafico')\n",
        "mp.show()\n",
        "\n",
        "print(indices)\n",
        "print(valores)\n",
        "\n",
        "# Rutas relativas\n",
        "os.system('cls')\n",
        "path=os.path.abspath('clasePandas.py')\n",
        "path=os.path.dirname(path)\n",
        "print(path)\n",
        "```"
      ],
      "metadata": {
        "id": "-hv9-kntdqea"
      }
    },
    {
      "cell_type": "markdown",
      "source": [
        "### Datasets\n",
        "```python\n",
        "import numpy as np\n",
        "import os\n",
        "import pandas as pd\n",
        "import matplotlib.pyplot as mp\n",
        "\n",
        "# Extraccion de datos\n",
        "# Transformar los datos. (Porque pueden tener fuentes diferentes, o no ser homogeneos. Por eso hay que depurarlos en ésta instancia)\n",
        "# Cargar/Procesar los datos.\n",
        "\n",
        "# Leemos los datos del archivo para convertirlos en un dataframe.\n",
        "df = pd.read_csv('./Numpy/canasta-basica.csv') # con ésta linea ya se convierten\n",
        "# Si el archivo tiene un separador distinto a la coma ',' se puede agregar en la apertura del archivo\n",
        "# el separador que se está usando para distinguir las columnas. Ej: sep=';'\n",
        "df = pd.read_csv('./Numpy/ejemplo2.csv', sep=';') # Usando separador\n",
        "df2 = pd.read_csv('./Numpy/ejemplo2.csv') # Sin usar separador\n",
        "\n",
        "print(df)\n",
        "print(df2)\n",
        "\n",
        "# Es como un 'group by' de un 'select', agrupa los datos.\n",
        "# \"size()\" me indica el tamaño y me genera una columna más con la cantidad agrupada, pero por defecto no tiene nombre\n",
        "# por eso se agrega \"reset_index(name='Total')\", ésto es para nombrar la columna con \"Total\"\n",
        "df1 = df.groupby(['01/12/2020']).size().reset_index(name='Total') # Se puede agrupar por más de una columna\n",
        "df2 = df.groupby(['01/12/2021']).size().reset_index(name='Total') # Se puede agrupar por más de una columna\n",
        "\n",
        "# Se pueden renombrar las columnas del df2 para poder compararlas\n",
        "df2 = df2.rename(columns={'noreste':'pa alla'})\n",
        "df_full = pd.merge(df1, df2, on='01/12/2020') # on es la columna en comun que los combina\n",
        "\n",
        "\n",
        "print(df1)\n",
        "print(df2)\n",
        "print(df_full) # Revisar bien como es\n",
        "\n",
        "# \"value_counts()\" devuelve una serie con la primera columna con el \"nombre de indice\" y una\n",
        "# segunda columna indicando cuantas veces se repite. Todo ésto devuelve una estructura que no\n",
        "# es una lista. Así que lo convertimos a lista con el método \"list()\"\n",
        "x = list(df_full.value_counts())\n",
        "y=[0,0,0,0,0]\n",
        "\n",
        "# Recorre la estructura, usa el largo de \"df_full\"\n",
        "for i in range(len(df_full)):\n",
        "    if(df_full.iloc[i]['nombre_columna'] == x[i]):\n",
        "        # le suma al vector \"y\" los valores\n",
        "        y[i] += df_full.iloc[i]['Total_x'] + df_full.iloc[i]['Total_y']\n",
        "\n",
        "\n",
        "print(len(x)) # devuelve los nodos que tiene\n",
        "```"
      ],
      "metadata": {
        "id": "N8vxDMIvebnY"
      }
    }
  ]
}