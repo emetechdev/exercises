{
  "cells": [
    {
      "cell_type": "markdown",
      "metadata": {
        "id": "UmzbaooXC3Mk"
      },
      "source": [
        "# Unidad 2\n",
        "Usamos POO y haremos un juego usando **Pygame**.\n",
        "En éste caso vamos a hacer algunas cosas basicas"
      ]
    },
    {
      "cell_type": "code",
      "execution_count": 2,
      "metadata": {
        "colab": {
          "base_uri": "https://localhost:8080/"
        },
        "id": "u1PAkv-sCyAy",
        "outputId": "d6faf9af-0b1c-4628-f149-294f75fb2859"
      },
      "outputs": [
        {
          "name": "stdout",
          "output_type": "stream",
          "text": [
            "nombre:  Benito\n"
          ]
        }
      ],
      "source": [
        "# Repaso de POO\n",
        "\n",
        "# Creamos la clase. Como en python no hay restricciones como en otros lenguajes, hay estados \n",
        "# que no puden declararse como 'privados' (no está ésta restriccion de ámbito), por eso usamos \n",
        "# convenciones para INDICAR que una variable es privada.\n",
        "class Persona:\n",
        "  # El doble guión bajo o uno sólo al inicio, hacen referencia que el atributo es 'privado'. \n",
        "  # Esta convención se usa para indicar que ésta variable es \"privada\"\n",
        "  __nombre = None\n",
        "\n",
        "  \"\"\"Python permite generar constructores con la palabra reservada '__init__()' \"\"\"\n",
        "  def __init__(self):\n",
        "    # Aca se pueden inicializar los valores que se necesiten\n",
        "    self.__nombre = \"Benito\"\n",
        "\n",
        "  # Ahora, para no estar manipulando los atributos, lo que tenemos que hacer es declarar métodos \n",
        "  # que nos permita acceder de alguna forma a esos \"atributos privados\". Ej: el método \"mostrarNombre()\"\n",
        "  # Aclaración: para que el método sea un \"método de la clase\" se requiere incluir si o si la palabra \n",
        "  # reservada \"self\" que indica que \"hace referencia a sí mismo\", \"self\" es como el \"this\" en C# y sirve\n",
        "  # para recorrer su propia interfaz.\n",
        "  def mostrarNombre(self):\n",
        "    print('nombre: ', self.__nombre)\n",
        "\n",
        "  # Los métodos que creamos dentro de la clase nos va a permitir interactuar con los atributos. Ej: se generan los get y set para interactuar con los atributos.\n",
        "  def getNombre(self):\n",
        "    return self.__nombre\n",
        "\n",
        "  def setNombre(self, nombre):\n",
        "    self.__nombre = nombre\n",
        "  \n",
        "\n",
        "\"\"\"Para los ejemplos de Herencia usamos la clase 'Jugador' que hereda de 'Persona'.\n",
        "En python se puede trabajar con herencia multiple también.\n",
        "\"\"\"\n",
        "class Jugador(Persona):\n",
        "  # Acá lo que NO SE HEREDA es el constructor de la \"Clase Base\". Pero si se puede llamar al \n",
        "  # constructor de la \"Clase Base\" con un \"super().__init__()\". Con \"super()\" se puede llamar \n",
        "  # a cualquier constructor o método de la \"Clase Base\"\n",
        "  def __init__(self):\n",
        "    super().__init__()\n",
        "\n",
        "\n",
        "  # Pero SI HEREDA LOS METODOS de la \"Clase Base\" y si se los declara aquí, lo que hace python es sobreescribirlos\n",
        "  # \"mostrarNombre(self)\" al tener el mismo nombre de la clase padre \"mostrarNombre(self)\". Acá lo que pasa es que\n",
        "  # SE SOBREESCRIBE LA CLASE\n",
        "  def mostrarNombre(self):\n",
        "    print(\"Soy el jugador: \")\n",
        "\n",
        "\"\"\"Lo que no tiene python es sobrecarga de métodos, pero ésto se puede simular con la librería 'multipledispatch' y mediante\n",
        "el uso de decoradores\"\"\"\n",
        "\n",
        "\n",
        "\n",
        "# Se instancia la clase\n",
        "persona = Persona()\n",
        "persona.setNombre(\"Pedro\")\n",
        "persona.mostrarNombre()\n",
        "\n",
        "# Instancio la clase \"Jugador\"\n",
        "jugador = Jugador()\n"
      ]
    },
    {
      "cell_type": "markdown",
      "metadata": {
        "id": "gpJbS1LPIyfK"
      },
      "source": [
        "# Pygame\n",
        "Se instala con un `pip install pygame` y se importa con un `import pygame`.\n",
        "Esta librería nos brinda una interfz gráfica o **GUI**. Las líneas más básicas se encuentran en el folder de unidad 2 (plantilla).\n",
        "\n",
        "## Animaciones\n",
        "Recordar que las animaciones son el resultado de imágenes que se superponen y se repiten en un ciclo (*en un bucle*) permanente y el efecto que genera esa repetición de la imágen con ligeros cambios entre una imágen y la otra, da la sensación de movimiento. Por ésto es que en **pygame** se trabaja con listas de imágenes o **Sprites**"
      ]
    },
    {
      "cell_type": "code",
      "execution_count": null,
      "metadata": {
        "id": "BTAFwawITBXy"
      },
      "outputs": [],
      "source": []
    }
  ],
  "metadata": {
    "colab": {
      "provenance": []
    },
    "kernelspec": {
      "display_name": "Python 3",
      "name": "python3"
    },
    "language_info": {
      "name": "python"
    }
  },
  "nbformat": 4,
  "nbformat_minor": 0
}
