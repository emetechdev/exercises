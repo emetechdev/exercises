{
  "nbformat": 4,
  "nbformat_minor": 0,
  "metadata": {
    "colab": {
      "provenance": []
    },
    "kernelspec": {
      "name": "python3",
      "display_name": "Python 3"
    },
    "language_info": {
      "name": "python"
    }
  },
  "cells": [
    {
      "cell_type": "markdown",
      "source": [
        "# Unidad 2\n",
        "Usamos POO y haremos un juego usando **Pygame**.\n",
        "En éste caso vamos a hacer algunas cosas basicas"
      ],
      "metadata": {
        "id": "UmzbaooXC3Mk"
      }
    },
    {
      "cell_type": "code",
      "execution_count": 2,
      "metadata": {
        "colab": {
          "base_uri": "https://localhost:8080/"
        },
        "id": "u1PAkv-sCyAy",
        "outputId": "d6faf9af-0b1c-4628-f149-294f75fb2859"
      },
      "outputs": [
        {
          "output_type": "stream",
          "name": "stdout",
          "text": [
            "nombre:  Benito\n"
          ]
        }
      ],
      "source": [
        "# Repaso de POO\n",
        "\n",
        "# Creamos la clase. Como en python no hay restricciones como en otros lenguajes, hay estados que no puden declararse\n",
        "# como 'privados' (no está ésta restriccion de ámbito), así que usamos convenciones para INDICAR que una variable es privada.\n",
        "class Persona:\n",
        "  # El doble guión bajo, o uno sólo al inicio hacen referencia que el atributo es 'privado'. Esta convención se usa para indicar que ésta variable es \"privada\"\n",
        "  __nombre = None\n",
        "\n",
        "  \"\"\"Python permite generar constructores con la palabra reservada '__init__()' \"\"\"\n",
        "  def __init__(self):\n",
        "    # Aca se pueden inicializar los valores que se necesiten\n",
        "    self.__nombre = \"Benito\"\n",
        "\n",
        "  # Ahora, para no estar manipulando los atributos, lo que tenemos que hacer es declarar métodos que nos permita acceder de\n",
        "  # alguna forma a esos \"atributos privados\". Ej: el método \"mostrarNombre()\"\n",
        "  # Aclaración: para que el método sea un \"método de la clase\" se requiere incluir si o si la palabra reservada \"self\" que indica que \"hace referencia a sí mismo\"\n",
        "  # self es como el \"this\" en C#. \"self\" es para recorrer su propia interfaz.\n",
        "  def mostrarNombre(self):\n",
        "    print('nombre: ', self.__nombre)\n",
        "\n",
        "  # Los métodos que creamos dentro de la clase nos va a permitir interactuar con los atributos. Ej: se generan los get y set para interactuar con los atributos.\n",
        "  def getNombre(self):\n",
        "    return self.__nombre\n",
        "\n",
        "  def setNombre(self, nombre):\n",
        "    self.__nombre = nombre\n",
        "\n",
        "\n",
        "\"\"\"Para los ejemplos de Herencia usamos la clase 'Jugador' que hereda de 'Persona'.\n",
        "En python se puede trabajar con herencia multiple también.\n",
        "\"\"\"\n",
        "class Jugador(Persona)\n",
        "  # Acá lo que NO SE HEREDA es el constructor de la \"Clase Base\". Pero si se puede llamar al constructor de la \"Clase Base\" con un\n",
        "  # \"super().__init__()\". Con \"super()\" se puede llamar a cualquier constructor o método de la \"Clase Base\"\n",
        "  def __init__(self):\n",
        "    super().__init__()\n",
        "\n",
        "\n",
        "  # Pero SI HEREDA LOS METODOS de la \"Clase Base\" y si se los declara aquí, lo que hace python es sobreescribirlos\n",
        "  # \"mostrarNombre(self)\" al tener el mismo nombre de la clase padre \"mostrarNombre(self)\". Acá lo que pasa es que\n",
        "  # SE SOBREESCRIBE LA CLASE\n",
        "  def mostrarNombre(self):\n",
        "    print(\"Soy el jugador: \")\n",
        "\n",
        "\"\"\"Lo que no tiene python es sobrecarga de métodos, pero ésto se puede simular con la librería 'multipledispatch' y mediante\n",
        "el uso de decoradores\"\"\"\n",
        "\n",
        "\n",
        "\n",
        "# Se instancia la clase\n",
        "persona = Persona()\n",
        "persona.setNombre(\"Pedro\")\n",
        "persona.mostrarNombre()\n",
        "\n",
        "# Instancio la clase \"Jugador\"\n",
        "jugador = Jugador()\n"
      ]
    },
    {
      "cell_type": "markdown",
      "source": [
        "# Pygame\n",
        "Se instala con un `pip install pygame` y se importa con un `import pygame`.\n",
        "Esta librería nos brinda una interfz gráfica o **GUI**. Las líneas más básicas se encuentran en el folder de unidad 2 (plantilla).\n",
        "\n",
        "## Animaciones\n",
        "Recordar que las animaciones son el resultado de imágenes que se superponen y se repiten en un ciclo (*en un bucle*) permanente y el efecto que genera esa repetición de la imágen con ligeros cambios entre una imágen y la otra, da la sensación de movimiento. Por ésto es que en **pygame** se trabaja con listas de imágenes o **Sprites**"
      ],
      "metadata": {
        "id": "gpJbS1LPIyfK"
      }
    },
    {
      "cell_type": "code",
      "source": [],
      "metadata": {
        "id": "BTAFwawITBXy"
      },
      "execution_count": null,
      "outputs": []
    }
  ]
}