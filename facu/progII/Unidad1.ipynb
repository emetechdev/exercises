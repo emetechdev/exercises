{
  "nbformat": 4,
  "nbformat_minor": 0,
  "metadata": {
    "colab": {
      "provenance": []
    },
    "kernelspec": {
      "name": "python3",
      "display_name": "Python 3"
    },
    "language_info": {
      "name": "python"
    }
  },
  "cells": [
    {
      "cell_type": "markdown",
      "source": [
        "# Unidad 1\n",
        "Incluye actividades desde la clase 1 a la 5. La clase 6 fué repaso y la 7 el parcial."
      ],
      "metadata": {
        "id": "_SHKgV2H_Ca3"
      }
    },
    {
      "cell_type": "code",
      "execution_count": 1,
      "metadata": {
        "colab": {
          "base_uri": "https://localhost:8080/"
        },
        "id": "gMhU0OVH9wGU",
        "outputId": "4be38311-753e-4cfa-cc42-d384b66613d6"
      },
      "outputs": [
        {
          "output_type": "stream",
          "name": "stdout",
          "text": [
            "<class 'int'>\n",
            "<class 'str'>\n",
            "a:  0 ; b:  0\n",
            "a2:  4 ; b2:  3\n"
          ]
        }
      ],
      "source": [
        "\"\"\"Vemos lo básico del lenguaje como para dejarlo claro y repasado.\n",
        "Recordar que python no admite para el nombre de las variables lo siguiente:\n",
        "- No se puede comenzar el nombre con números o caracteres especiales\n",
        "Pero si admite iniciar con '_' (guión bajo).\n",
        "- No admite espacios en blanco, por eso se usa 'snake case' que es separar las palabras con guión bajo\n",
        "\n",
        "Existen acuerdos, que son cosas que NO están prohibidas por el lenguaje pero si están acordadas por la comunidad, ej:\n",
        "- Los nombres siempre van en minusculas.\n",
        "- Si tiene más de una palabra, usamos guión bajo, 'snake case'\n",
        "- Las constantes se distinguen con TODAS MAYUSCULAS. (Recordar que en python no existen las constantes, pero para poder identificarlas, se deben escribir de ésta manera)\n",
        "\"\"\"\n",
        "\n",
        "# Manejo de variables, tipos y asignaciones. En python no existen las constantes, siempre son variables, que como python es un lenguaje de tipado dinámico, a las variables cuando\n",
        "# se las declada no se hace con un tipo definido, sino cuando se le asigna el valor, ésa variable ya toma el tipo del valor que se le asignó.\n",
        "# como no se tipa la variable, hay que ser prolijo a la hora de programar\n",
        "a_int_0 = 0 # Variable que 'asume' que es un entero\n",
        "a_str_0 = \"0\" # Variable que 'asume' que es un string\n",
        "print(type(a_int_0))\n",
        "print(type(a_str_0))\n",
        "\n",
        "# Se puede asignar más de un valor en una sola linea\n",
        "a=b=0\n",
        "print('a: ', a, '; b: ', b)\n",
        "# Se puede declarar más de un valor en una sola linea. El primer valor lo asigna a la primera variable y el segundo valor a la segunda variable\n",
        "a2, b2 = 4, 3\n",
        "print('a2: ', a2, '; b2: ', b2)"
      ]
    },
    {
      "cell_type": "code",
      "source": [
        "# Python hace conversión de tipos y puede pisar variables ya declaradas anteriormente\n",
        "a=5\n",
        "b=1.5\n",
        "g=0\n",
        "g=a*b # Hace una conversión implicita.\n",
        "print(type(g))\n",
        "\n",
        "# Esta conversión implícita no siempre es acertada, sino que necesitaríamos hacerla nosotros porque python no pude resolver\n",
        "#print(g) # Si intento imprimirla (la salida de 'print' es solo string). Acá me da error y no la puede castear a la variable\n",
        "print(str(g)) # Como no puede castear la variable, tenemos que convertirla nosotros"
      ],
      "metadata": {
        "colab": {
          "base_uri": "https://localhost:8080/"
        },
        "id": "nKU6A2GLdQlb",
        "outputId": "7ef672e6-f1fb-4e54-9d2a-8e1df9736768"
      },
      "execution_count": 2,
      "outputs": [
        {
          "output_type": "stream",
          "name": "stdout",
          "text": [
            "<class 'float'>\n",
            "7.5\n"
          ]
        }
      ]
    },
    {
      "cell_type": "code",
      "source": [
        "# Tambien puede convertir a binario las variables\n",
        "num=10\n",
        "print('nro binario: ', bin(num))"
      ],
      "metadata": {
        "colab": {
          "base_uri": "https://localhost:8080/"
        },
        "id": "50SbJO6_gM36",
        "outputId": "537d48e0-0e42-4269-b57f-144840c2dd01"
      },
      "execution_count": 3,
      "outputs": [
        {
          "output_type": "stream",
          "name": "stdout",
          "text": [
            "nro binario:  0b1010\n"
          ]
        }
      ]
    },
    {
      "cell_type": "code",
      "source": [
        "# Instrucción de ingreso de valor por teclado\n",
        "input_a = input(\"Ingresar numero >_\") # Recordar que los datos ingresados lo hacen en tipo \"string\"\n",
        "multiplicacion =  2 + float(input_a) # Como el input ingresa en tipo string, se castea a algun numerico\n",
        "print(multiplicacion)"
      ],
      "metadata": {
        "colab": {
          "base_uri": "https://localhost:8080/"
        },
        "id": "CN__CJ_BgYq0",
        "outputId": "9350d745-7a5f-4db4-fca5-6c78f8bedfb7"
      },
      "execution_count": 4,
      "outputs": [
        {
          "output_type": "stream",
          "name": "stdout",
          "text": [
            "Ingresar numero >_2\n",
            "4.0\n"
          ]
        }
      ]
    },
    {
      "cell_type": "code",
      "source": [
        "# 'print' es la salida por pantalla, hay diferentes formatos de sacar strings, con datos\n",
        "s1 = \"hola\"\n",
        "s2 = \"mundo\"\n",
        "print(s1, s2) # No concatena, sino que muestra por separado los datos\n",
        "print(s1 + s2) # Concatenacion, para agregar el espacio hay que agregar un espacio, ej: \" \"\n",
        "\n",
        "# Formatear texto. Se antepone una \"f\"\n",
        "nombre = \"Juan\"\n",
        "promedio = 9.513241324\n",
        "print(f\"El promedio de {nombre} es de {promedio}\") #\n",
        "print(f\"El promedio de {nombre} es de {str(promedio)}\") #\n",
        "\n",
        "# En el ejemplo se puede incrustar el promedio como numero o como string. El orden de las variables debe respetar el orden de los comodines (%s, %f, etc)\n",
        "print(\"El promedio de %s es de %f\" % (nombre, promedio)) #\n",
        "print(\"El promedio de %s es de %.2f\" % ( nombre, promedio)) # %.2f: Muestra 2 decimales\n",
        "# %07.2f: Muestra un numero con 7 caracteres (incluye: entero, el punto y los decimales) y hacia adelante rellena con ceros, si es que falta completar posiciones.\n",
        "print(\"El promedio de %s es de %07.2f\" % ( nombre, promedio)) # .2 hace respetar que solo se muestren 2 de los decimales\n",
        "\n",
        "# Tener en cuenta que si el entero tiene mas numeros, no lo corta\n",
        "promedio2 = 92345343434343434.513241324\n",
        "print(\"El promedio de %s es de %07.2f\" % ( nombre, promedio2))\n",
        "\n",
        "# Uso de escape para caracteres especiales.\n",
        "print(\"La palabra \\\"promedio\\\" está con comillas\")\n",
        "\n",
        "# Saltos de línea. Hay variantes como '\\n', end, entre otros. Para más info ver docu oficial"
      ],
      "metadata": {
        "colab": {
          "base_uri": "https://localhost:8080/"
        },
        "id": "aBXxxUv8iSnY",
        "outputId": "a573ff63-8127-482b-a9fa-ff6f0f2d32d4"
      },
      "execution_count": 5,
      "outputs": [
        {
          "output_type": "stream",
          "name": "stdout",
          "text": [
            "hola mundo\n",
            "holamundo\n",
            "El promedio de Juan es de 9.513241324\n",
            "El promedio de Juan es de 9.513241324\n",
            "El promedio de Juan es de 9.513241\n",
            "El promedio de Juan es de 9.51\n",
            "El promedio de Juan es de 0009.51\n",
            "El promedio de Juan es de 92345343434343440.00\n",
            "La palabra \"promedio\" está con comillas\n"
          ]
        }
      ]
    },
    {
      "cell_type": "code",
      "source": [
        "\"\"\" Operadores de decisión: if/else\n",
        "    Operadores Relacionales: ==, !=, >, <, >=, <=\n",
        "    Operadores binarios: and, or, not\n",
        "\n",
        "Recordar que python no usa llaves sino que usa la tabulación para indicar que cosas están dentro o fuera de un bloque.\n",
        "Y se admiten los condicionales anidados\n",
        "\"\"\"\n",
        "var1 = 0\n",
        "if(var1 == 0):\n",
        "  print(\"es igual a cero\")\n",
        "elif(var1==1):\n",
        "  print(\"es igual a uno\")\n",
        "else:\n",
        "  print(\"no es igual a cero\")\n",
        "\n",
        "# TODO éste \"TODO\" se usa con la extensión \"TODO\" en VS Code y lo que hace es mapear éstos comentarios que inician\n",
        "# con la palabra TODO y lo muestra en el explorador de archivos. Es una herramienta para usarla como registro interno dentro del código\n",
        "print(\"esto está fuera del condicional if/else\")\n"
      ],
      "metadata": {
        "colab": {
          "base_uri": "https://localhost:8080/"
        },
        "id": "sYCpw1T-kAyZ",
        "outputId": "30d19167-e440-4860-92e6-130a1cd6fce3"
      },
      "execution_count": 6,
      "outputs": [
        {
          "output_type": "stream",
          "name": "stdout",
          "text": [
            "es igual a cero\n",
            "esto está fuera del condicional if/else\n"
          ]
        }
      ]
    },
    {
      "cell_type": "code",
      "source": [
        "\"\"\" Instrucciones de Repeticion for / while \"\"\"\n",
        "# El \"for\" usa el iterador \"i\".\n",
        "# Por lo general 'print' hace un salto de línea pero usando end=\"-\" se fuerza para que no salte y en su lugar haga un guión \"-\"\n",
        "print('for 1')\n",
        "for i in [0, 1, 2, 3, 4]:\n",
        "  print(i, end=\"-\")"
      ],
      "metadata": {
        "colab": {
          "base_uri": "https://localhost:8080/"
        },
        "id": "iMbk_palp1gR",
        "outputId": "85212db7-96a3-4d91-d3fa-ec717324f4cc"
      },
      "execution_count": 7,
      "outputs": [
        {
          "output_type": "stream",
          "name": "stdout",
          "text": [
            "for 1\n",
            "0-1-2-3-4-"
          ]
        }
      ]
    },
    {
      "cell_type": "code",
      "source": [
        "# 'range' función que genera una lista de números\n",
        "print('for 2')\n",
        "for i in range(5): # [0,1,2,3,4] -> Genera lista de 5 números (empezando por el 0)\n",
        "  print(i, end=\"-\")\n",
        "\n",
        "print('\\nfor 3')\n",
        "for i in range(1, 5): # [1,2,3,4,5] -> Se le dice que empiece desde el 1, hasta 5\n",
        "  print(i, end=\"-\")\n",
        "\n",
        "# [0,2,4,6,8] -> Se le dice que empiece desde el 0, hasta 10 y saltando cada 2\n",
        "print('\\nfor 4')\n",
        "for i in range(0, 10, 2):\n",
        "  print(i, end=\"-\")\n",
        "\n",
        "# [0,2,4,6,8] -> Se le dice que empiece desde el 0, hasta 10 y saltando cada 2\n",
        "print('\\nfor 5')\n",
        "for i in range(0, 10, 2):\n",
        "  print(i, end=\"-\")\n",
        "\n",
        "# [8,6,4,2,0] -> Recorrido inverso. Se le dice que empiece desde el 10, hasta 0 y saltando cada 2\n",
        "print('\\nfor 6')\n",
        "for i in range(10, 0, -2):\n",
        "  print(i, end=\"-\")\n",
        "\n",
        "# Tambien itera letras\n",
        "print('\\nfor 7')\n",
        "for i in [\"a\", \"b\", \"c\", \"d\"]:\n",
        "  print(i, end=\" \")\n",
        "\n",
        "# Tambien itera strings, toma el string como un vector y cada caracter es un elemento (item)\n",
        "print('\\nfor 7')\n",
        "for i in \"Hola mundo\":\n",
        "  print(i, end=\" \")\n"
      ],
      "metadata": {
        "id": "qm9R-Lei4Qpc",
        "colab": {
          "base_uri": "https://localhost:8080/"
        },
        "outputId": "d939acd6-b699-43eb-daec-e264c9dd43f6"
      },
      "execution_count": 8,
      "outputs": [
        {
          "output_type": "stream",
          "name": "stdout",
          "text": [
            "for 2\n",
            "0-1-2-3-4-\n",
            "for 3\n",
            "1-2-3-4-\n",
            "for 4\n",
            "0-2-4-6-8-\n",
            "for 5\n",
            "0-2-4-6-8-\n",
            "for 6\n",
            "10-8-6-4-2-\n",
            "for 7\n",
            "a b c d \n",
            "for 7\n",
            "H o l a   m u n d o "
          ]
        }
      ]
    },
    {
      "cell_type": "code",
      "source": [
        "# While - Cuando no se conoce la cantidad de iteraciones se necesita\n",
        "\n",
        "# Una forma de implemetarlo puede ser con variables booleanas donde se usan banderas\n",
        "salir = False\n",
        "while not salir:\n",
        "  print(\"repitiendo\")\n",
        "  op = input(\"Desea salir (s / n)?: \")\n",
        "  if op == \"s\":\n",
        "    salir = True\n",
        "\n",
        "print(\"estamos afuera\")\n",
        "\n",
        "# Otra forma de hacerlo puede ser con un contador\n",
        "cont = 0\n",
        "while cont < 10:\n",
        "  print(\"repitiendo: \", cont)\n",
        "  cont += 1\n",
        "\n",
        "print(\"estamos afuera del contador\")"
      ],
      "metadata": {
        "colab": {
          "base_uri": "https://localhost:8080/"
        },
        "id": "JmVbGoRT5eXi",
        "outputId": "2cf499d7-f8e9-43be-fc60-61c83e9f887e"
      },
      "execution_count": 9,
      "outputs": [
        {
          "output_type": "stream",
          "name": "stdout",
          "text": [
            "repitiendo\n",
            "Desea salir (s / n)?: s\n",
            "estamos afuera\n",
            "repitiendo:  0\n",
            "repitiendo:  1\n",
            "repitiendo:  2\n",
            "repitiendo:  3\n",
            "repitiendo:  4\n",
            "repitiendo:  5\n",
            "repitiendo:  6\n",
            "repitiendo:  7\n",
            "repitiendo:  8\n",
            "repitiendo:  9\n",
            "estamos afuera del contador\n"
          ]
        }
      ]
    },
    {
      "cell_type": "code",
      "source": [
        "\"\"\"Funciones - Son pequequeños modulos de codigo, los cuales se pueden llamar las veces que se\n",
        "quiera. Y como python tiene tipado dinámico, no hace falta especificar a la funcion, cuál es el valor de retorno.\n",
        "\"\"\"\n",
        "# Las funciones se crean con la palabra reservada \"def\"\n",
        "def saludar(): # Esta funcion no tiene parametros ni valor de retorno\n",
        "  print(\"funcion de saludo\")\n",
        "\n",
        "# llamada a la funcion\n",
        "saludar()"
      ],
      "metadata": {
        "id": "FmuVGlZu-AXI",
        "colab": {
          "base_uri": "https://localhost:8080/"
        },
        "outputId": "da1a01fd-20df-4453-9c42-1869895f4604"
      },
      "execution_count": 10,
      "outputs": [
        {
          "output_type": "stream",
          "name": "stdout",
          "text": [
            "funcion de saludo\n"
          ]
        }
      ]
    },
    {
      "cell_type": "code",
      "source": [
        "# Funcion con parametros pero que no retorna valores\n",
        "def saludar2(nombre):\n",
        "  print(\"funcion de saludo 2\", nombre)\n",
        "\n",
        "saludar2(\"juan perez\")\n",
        "\n",
        "# Funcion con parametros y retorna un solo valor\n",
        "def sumar(a, b):\n",
        "  return a + b\n",
        "\n",
        "print(sumar(2, 5))\n",
        "\n",
        "# Funcion con parametros y retorna más de un valor\n",
        "def calcularEdad(edad):\n",
        "  inp_edad = edad\n",
        "  texto = \"Menor de edad\"\n",
        "  if edad >= 18:\n",
        "    texto = \"Mayor de edad\"\n",
        "\n",
        "  # Acá lo que devuelve es una 'tupla'. No es que devuelve más de un valor, sino que los valores que devuelve un tipo de dato complejo\n",
        "  # (que es la tupla). Entonces los valores separados por comas que se devuelven los mete dentro de una tupla\n",
        "  # Es decir que reconvierte esos valores en una coleccion\n",
        "  return edad, texto\n",
        "\n",
        "resp_edad, mensaje = calcularEdad(16)\n",
        "print(f\"edad: {resp_edad} ; mensaje: {mensaje}\")"
      ],
      "metadata": {
        "id": "ixxVDvNlLmXG",
        "colab": {
          "base_uri": "https://localhost:8080/"
        },
        "outputId": "18b3d5ca-4d3c-4696-dd81-df50e312792e"
      },
      "execution_count": 14,
      "outputs": [
        {
          "output_type": "stream",
          "name": "stdout",
          "text": [
            "funcion de saludo 2 juan perez\n",
            "7\n",
            "edad: 16 ; mensaje: Menor de edad\n"
          ]
        }
      ]
    },
    {
      "cell_type": "code",
      "source": [
        "\"\"\"Funcion Main - Python no tiene por defecto una funcion main desde la cual arranquen las demas funciones.\n",
        "Así que la forma de usan un 'main' es definiendola de forma manual\"\"\"\n",
        "def main():\n",
        "  # Acá se llaman a las funciones que se necesite\n",
        "  pass\n",
        "\n",
        "# el if pregunta por el estado del evento '__main__' que está arrancando, si lo detecta, que llame a la funcion 'main()' o como la llamemos porque se le puede cambiar el nombre\n",
        "if __name__ == '__main__':\n",
        "  main() # El nombre tiene que coincidir con el de la funcion, así que se lo puede cambiar si hace falta"
      ],
      "metadata": {
        "id": "aVjUJq5JO0M0"
      },
      "execution_count": 15,
      "outputs": []
    },
    {
      "cell_type": "code",
      "source": [
        "# Después vemos como crear archivos en otros folders para usarlos como módulos\n",
        "# y así poder reutilizar las funciones."
      ],
      "metadata": {
        "id": "SXb-2p7YQM44"
      },
      "execution_count": 16,
      "outputs": []
    }
  ]
}